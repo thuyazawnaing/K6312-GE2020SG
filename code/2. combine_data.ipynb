{
 "cells": [
  {
   "cell_type": "markdown",
   "metadata": {},
   "source": [
    "# Data cleanning \n",
    "\n",
    "Dataset structure \n",
    "- We scrap two times\n",
    "- Raw Data (scrapped data) is saved into a folder named \"Raw_data/1st/*\" and \"Raw_data/2nd/*\"\n",
    "- Processed data is saved into folder named \"clean data\""
   ]
  },
  {
   "cell_type": "code",
   "execution_count": 1,
   "metadata": {},
   "outputs": [],
   "source": [
    "import glob,time,os\n",
    "import pandas as pd,numpy as np\n",
    "\n",
    "std_time_format = '\"%Y-%m-%d %H:%M\"'\n",
    "def format_datetime1(date_time_str):\n",
    "    result = time.strftime(std_time_format, time.localtime(time.mktime(time.strptime(date_time_str ,\"%d/%m/%Y %H:%M\"))))\n",
    "    return result\n",
    "def format_datetime(date_time_str):\n",
    "    result = time.strftime(std_time_format, time.localtime(time.mktime(time.strptime(date_time_str ,\"%H:%M %p · %b %d, %Y\"))))\n",
    "    return result\n",
    "def format_datetime2(date_time_str):\n",
    "    result = time.strftime(std_time_format, time.localtime(time.mktime(time.strptime(date_time_str ,\"%Y-%m-%dT%H:%M:%S.%fZ\"))))\n",
    "    return result\n",
    "# Filter the windows - [May,June,July]\n",
    "def check_month(str_time):\n",
    "    year =  time.strptime(str_time ,std_time_format).tm_year\n",
    "    month =  time.strptime(str_time ,std_time_format).tm_mon\n",
    "    day =  time.strptime(str_time ,std_time_format).tm_mday\n",
    "    return month >=5 and month <=7 and year == 2020"
   ]
  },
  {
   "cell_type": "code",
   "execution_count": null,
   "metadata": {},
   "outputs": [],
   "source": [
    "root = '..//data//raw_data' # set the folder path\n",
    "filelist = glob.glob(os.path.join(root,'1st//*'))\n",
    "print(len(filelist))\n",
    "filelist\n",
    "df0,df10 = pd.read_csv(filelist[0]),pd.read_csv(filelist[10])\n",
    "df1,df2,df3 = pd.read_csv(filelist[1]),pd.read_csv(filelist[2]),pd.read_csv(filelist[3])\n",
    "df4,df5,df6 = pd.read_csv(filelist[4]),pd.read_csv(filelist[5]),pd.read_csv(filelist[6])\n",
    "df7,df8,df9 = pd.read_csv(filelist[7]),pd.read_csv(filelist[8]),pd.read_csv(filelist[9])\n",
    "\n",
    "print('********Before dropping NA********')\n",
    "for idx in range(0,len(filelist)):\n",
    "    print((filelist[idx]) ,\":\" , eval('df%d'%(idx)).shape)\n",
    "df0,df1 = df0.dropna().reset_index(drop=True),df1.dropna().reset_index(drop=True)\n",
    "df2,df3 = df2.dropna().reset_index(drop=True),df3.dropna().reset_index(drop=True)\n",
    "df4,df5 = df4.dropna().reset_index(drop=True),df5.dropna().reset_index(drop=True)\n",
    "df6,df7 = df6.dropna().reset_index(drop=True),df7.dropna().reset_index(drop=True)\n",
    "df8,df9 = df8.dropna().reset_index(drop=True),df9.dropna().reset_index(drop=True)\n",
    "df10 = df10.dropna().reset_index(drop=True)\n",
    "print('********After dropping NA********')\n",
    "count = 0 \n",
    "concat_li = []\n",
    "for idx in range(0,len(filelist)):\n",
    "    print((idx) ,\":\" , eval('df%d'%(idx)).shape)\n",
    "    eval('df%d'%(idx))['Tag'] = filelist[idx].split('-')[1].split('.')[0]\n",
    "    eval('df%d'%(idx))['Retweets'] =eval('df%d'%(idx))['Retweets'].apply(lambda x:str(x).replace('s',\"\")).astype(float)\n",
    "    if idx ==1: \n",
    "        eval('df%d'%(idx))['Date'] =  eval('df%d'%(idx))['Date'].apply(format_datetime1)        \n",
    "    else: \n",
    "        eval('df%d'%(idx))['Date'] =  eval('df%d'%(idx))['Date'].apply(format_datetime)\n",
    "    count+=eval('df%d'%(idx)).shape[0]\n",
    "    \n",
    "    concat_li.append(eval('df%d'%(idx)))\n",
    "print('Total - ',count)\n",
    "result = pd.concat(concat_li,axis=0)\n",
    "result.to_csv(os.path.join(root,'all_data-1.csv'),index=False)"
   ]
  },
  {
   "cell_type": "code",
   "execution_count": null,
   "metadata": {},
   "outputs": [],
   "source": [
    "filelist = glob.glob(os.path.join(root,'2nd//*'))\n",
    "print(len(filelist))\n",
    "filelist\n",
    "df0 = pd.read_csv(filelist[0])\n",
    "df1,df2,df3 = pd.read_csv(filelist[1]),pd.read_csv(filelist[2]),pd.read_csv(filelist[3])\n",
    "df4 = pd.read_csv(filelist[4])\n",
    "print('********Impute dropping NA********')\n",
    "for idx in range(0,len(filelist)):\n",
    "    print((filelist[idx]) ,\":\" , eval('df%d'%(idx)).shape)\n",
    "\n",
    "df0,df1 = df0.fillna(0),df1.fillna(0)\n",
    "df2,df3 = df2.fillna(0),df3.fillna(0) \n",
    "df4 = df4.fillna(0)\n",
    "\n",
    "df0,df1 = df0.dropna().reset_index(drop=True),df1.dropna().reset_index(drop=True)\n",
    "df2,df3 = df2.dropna().reset_index(drop=True),df3.dropna().reset_index(drop=True)\n",
    "df4 = df4.dropna().reset_index(drop=True)\n",
    "print('********After dropping NA********')\n",
    "count = 0 \n",
    "concat_li = []\n",
    "for idx in range(0,len(filelist)):\n",
    "    print((idx) ,\":\" , eval('df%d'%(idx)).shape)\n",
    "    eval('df%d'%(idx))['Tag'] = filelist[idx].split('-')[1].split('.')[0]\n",
    "    eval('df%d'%(idx))['Timestamp'] =  eval('df%d'%(idx))['Timestamp'].apply(format_datetime2)        \n",
    "    count+=eval('df%d'%(idx)).shape[0]\n",
    "    concat_li.append(eval('df%d'%(idx)))\n",
    "print('Total - ',count)\n",
    "result = pd.concat(concat_li,axis=0)\n",
    "result.to_csv(os.path.join(root,'all_data-2.csv'),index=False)"
   ]
  },
  {
   "cell_type": "code",
   "execution_count": 4,
   "metadata": {},
   "outputs": [
    {
     "data": {
      "text/plain": [
       "((7737, 6), (2409, 9))"
      ]
     },
     "execution_count": 4,
     "metadata": {},
     "output_type": "execute_result"
    }
   ],
   "source": [
    "ddf1 = pd.read_csv(os.path.join(root,'all_data-1.csv'))\n",
    "ddf2 = pd.read_csv(os.path.join(root,'all_data-2.csv'))\n",
    "ddf1.shape, ddf2.shape"
   ]
  },
  {
   "cell_type": "code",
   "execution_count": 5,
   "metadata": {},
   "outputs": [
    {
     "data": {
      "text/html": [
       "<div>\n",
       "<style scoped>\n",
       "    .dataframe tbody tr th:only-of-type {\n",
       "        vertical-align: middle;\n",
       "    }\n",
       "\n",
       "    .dataframe tbody tr th {\n",
       "        vertical-align: top;\n",
       "    }\n",
       "\n",
       "    .dataframe thead th {\n",
       "        text-align: right;\n",
       "    }\n",
       "</style>\n",
       "<table border=\"1\" class=\"dataframe\">\n",
       "  <thead>\n",
       "    <tr style=\"text-align: right;\">\n",
       "      <th></th>\n",
       "      <th>UserName</th>\n",
       "      <th>Handle</th>\n",
       "      <th>Timestamp</th>\n",
       "      <th>Text</th>\n",
       "      <th>Emojis</th>\n",
       "      <th>Comments</th>\n",
       "      <th>Likes</th>\n",
       "      <th>Retweets</th>\n",
       "      <th>Tag</th>\n",
       "    </tr>\n",
       "  </thead>\n",
       "  <tbody>\n",
       "    <tr>\n",
       "      <th>0</th>\n",
       "      <td>Gyro</td>\n",
       "      <td>@Gyrowoof</td>\n",
       "      <td>\"2020-07-08 16:02\"</td>\n",
       "      <td>It is your responsibility to make an informed ...</td>\n",
       "      <td>0</td>\n",
       "      <td>0.0</td>\n",
       "      <td>0.0</td>\n",
       "      <td>1.0</td>\n",
       "      <td>GE2020</td>\n",
       "    </tr>\n",
       "    <tr>\n",
       "      <th>1</th>\n",
       "      <td>karen.yeo⁷ᴮᴱ (semi-hiatus)</td>\n",
       "      <td>@timebendtowards</td>\n",
       "      <td>\"2020-07-08 16:00\"</td>\n",
       "      <td>#mustread for anyone wanting to understand deb...</td>\n",
       "      <td>0</td>\n",
       "      <td>1.0</td>\n",
       "      <td>0.0</td>\n",
       "      <td>1.0</td>\n",
       "      <td>GE2020</td>\n",
       "    </tr>\n",
       "  </tbody>\n",
       "</table>\n",
       "</div>"
      ],
      "text/plain": [
       "                     UserName            Handle           Timestamp  \\\n",
       "0                        Gyro         @Gyrowoof  \"2020-07-08 16:02\"   \n",
       "1  karen.yeo⁷ᴮᴱ (semi-hiatus)  @timebendtowards  \"2020-07-08 16:00\"   \n",
       "\n",
       "                                                Text Emojis  Comments  Likes  \\\n",
       "0  It is your responsibility to make an informed ...      0       0.0    0.0   \n",
       "1  #mustread for anyone wanting to understand deb...      0       1.0    0.0   \n",
       "\n",
       "  Retweets     Tag  \n",
       "0      1.0  GE2020  \n",
       "1      1.0  GE2020  "
      ]
     },
     "execution_count": 5,
     "metadata": {},
     "output_type": "execute_result"
    }
   ],
   "source": [
    "ddf2.head(2)"
   ]
  },
  {
   "cell_type": "code",
   "execution_count": 6,
   "metadata": {},
   "outputs": [
    {
     "data": {
      "text/html": [
       "<div>\n",
       "<style scoped>\n",
       "    .dataframe tbody tr th:only-of-type {\n",
       "        vertical-align: middle;\n",
       "    }\n",
       "\n",
       "    .dataframe tbody tr th {\n",
       "        vertical-align: top;\n",
       "    }\n",
       "\n",
       "    .dataframe thead th {\n",
       "        text-align: right;\n",
       "    }\n",
       "</style>\n",
       "<table border=\"1\" class=\"dataframe\">\n",
       "  <thead>\n",
       "    <tr style=\"text-align: right;\">\n",
       "      <th></th>\n",
       "      <th>Username</th>\n",
       "      <th>Date</th>\n",
       "      <th>Content</th>\n",
       "      <th>Likes</th>\n",
       "      <th>Retweets</th>\n",
       "      <th>Tag</th>\n",
       "    </tr>\n",
       "  </thead>\n",
       "  <tbody>\n",
       "    <tr>\n",
       "      <th>0</th>\n",
       "      <td>iresimply81\\r\\n@IREsimply81</td>\n",
       "      <td>\"2020-08-28 10:10\"</td>\n",
       "      <td>Perhaps now Singaporeans will know why we need...</td>\n",
       "      <td>0.0</td>\n",
       "      <td>0.0</td>\n",
       "      <td>GE2020SG</td>\n",
       "    </tr>\n",
       "    <tr>\n",
       "      <th>1</th>\n",
       "      <td>Data Science Briefly\\r\\n@DataScience_b</td>\n",
       "      <td>\"2020-08-19 02:36\"</td>\n",
       "      <td>Singapore’s #GE2020SG in wordclouds and barcha...</td>\n",
       "      <td>0.0</td>\n",
       "      <td>0.0</td>\n",
       "      <td>GE2020SG</td>\n",
       "    </tr>\n",
       "  </tbody>\n",
       "</table>\n",
       "</div>"
      ],
      "text/plain": [
       "                                 Username                Date  \\\n",
       "0             iresimply81\\r\\n@IREsimply81  \"2020-08-28 10:10\"   \n",
       "1  Data Science Briefly\\r\\n@DataScience_b  \"2020-08-19 02:36\"   \n",
       "\n",
       "                                             Content  Likes  Retweets  \\\n",
       "0  Perhaps now Singaporeans will know why we need...    0.0       0.0   \n",
       "1  Singapore’s #GE2020SG in wordclouds and barcha...    0.0       0.0   \n",
       "\n",
       "        Tag  \n",
       "0  GE2020SG  \n",
       "1  GE2020SG  "
      ]
     },
     "execution_count": 6,
     "metadata": {},
     "output_type": "execute_result"
    }
   ],
   "source": [
    "ddf1.head(2)"
   ]
  },
  {
   "cell_type": "markdown",
   "metadata": {},
   "source": [
    "## Standardize the column's names and formats of the files"
   ]
  },
  {
   "cell_type": "code",
   "execution_count": 7,
   "metadata": {},
   "outputs": [
    {
     "name": "stderr",
     "output_type": "stream",
     "text": [
      "C:\\Users\\lily.aungnn\\Anaconda3\\lib\\site-packages\\ipykernel_launcher.py:2: SettingWithCopyWarning: \n",
      "A value is trying to be set on a copy of a slice from a DataFrame.\n",
      "Try using .loc[row_indexer,col_indexer] = value instead\n",
      "\n",
      "See the caveats in the documentation: https://pandas.pydata.org/pandas-docs/stable/user_guide/indexing.html#returning-a-view-versus-a-copy\n",
      "  \n",
      "C:\\Users\\lily.aungnn\\Anaconda3\\lib\\site-packages\\ipykernel_launcher.py:3: SettingWithCopyWarning: \n",
      "A value is trying to be set on a copy of a slice from a DataFrame.\n",
      "Try using .loc[row_indexer,col_indexer] = value instead\n",
      "\n",
      "See the caveats in the documentation: https://pandas.pydata.org/pandas-docs/stable/user_guide/indexing.html#returning-a-view-versus-a-copy\n",
      "  This is separate from the ipykernel package so we can avoid doing imports until\n"
     ]
    }
   ],
   "source": [
    "ddf1_tmp =ddf1.iloc[np.where(ddf1['Username'].apply(lambda x:\"@\"in x) == False)[0],:]\n",
    "ddf1_tmp['UserName'] = ddf1_tmp.Username.apply(lambda x:x.replace('\\r\\n','').split(\"/\")[0].split('#')[0])\n",
    "ddf1_tmp['Handle'] = '@'+ ddf1_tmp['UserName']\n",
    "ddf1_tmp.pop('Username')\n",
    "ddf1=ddf1.iloc[np.where(ddf1['Username'].apply(lambda x:\"@\"in x) == True)[0],:]\n",
    "ddf1['UserName'],ddf1['Handle'] = ddf1.Username.apply(lambda x:x.split('@')[0].replace('\\r\\n','')),'@'+ddf1.Username.apply(lambda x:x.split('@')[1])\n",
    "ddf1.pop('Username')\n",
    "ddf1 = pd.concat([ddf1.copy(),ddf1_tmp])\n",
    "ddf1['Emojis'] = 0\n",
    "ddf1['Comments'] = 0\n",
    "ddf1 = ddf1.loc[:,['UserName','Handle','Date','Content','Likes','Retweets','Emojis','Comments','Tag']]\n",
    "ddf1.columns = ['UserName','Handle','Timestamp','Content','Likes','Retweets','Emojis','Comments','Tag']"
   ]
  },
  {
   "cell_type": "code",
   "execution_count": 8,
   "metadata": {},
   "outputs": [
    {
     "data": {
      "text/html": [
       "<div>\n",
       "<style scoped>\n",
       "    .dataframe tbody tr th:only-of-type {\n",
       "        vertical-align: middle;\n",
       "    }\n",
       "\n",
       "    .dataframe tbody tr th {\n",
       "        vertical-align: top;\n",
       "    }\n",
       "\n",
       "    .dataframe thead th {\n",
       "        text-align: right;\n",
       "    }\n",
       "</style>\n",
       "<table border=\"1\" class=\"dataframe\">\n",
       "  <thead>\n",
       "    <tr style=\"text-align: right;\">\n",
       "      <th></th>\n",
       "      <th>UserName</th>\n",
       "      <th>Handle</th>\n",
       "      <th>Timestamp</th>\n",
       "      <th>Content</th>\n",
       "      <th>Likes</th>\n",
       "      <th>Retweets</th>\n",
       "      <th>Emojis</th>\n",
       "      <th>Comments</th>\n",
       "      <th>Tag</th>\n",
       "    </tr>\n",
       "  </thead>\n",
       "  <tbody>\n",
       "    <tr>\n",
       "      <th>7526</th>\n",
       "      <td>中国民主人权联盟</td>\n",
       "      <td>@中国民主人权联盟</td>\n",
       "      <td>\"2020-07-12 05:29\"</td>\n",
       "      <td>2020 Singapore General Election - United State...</td>\n",
       "      <td>0.0</td>\n",
       "      <td>1.0</td>\n",
       "      <td>0</td>\n",
       "      <td>0</td>\n",
       "      <td>singapore_general_election_2020</td>\n",
       "    </tr>\n",
       "  </tbody>\n",
       "</table>\n",
       "</div>"
      ],
      "text/plain": [
       "      UserName     Handle           Timestamp  \\\n",
       "7526  中国民主人权联盟  @中国民主人权联盟  \"2020-07-12 05:29\"   \n",
       "\n",
       "                                                Content  Likes  Retweets  \\\n",
       "7526  2020 Singapore General Election - United State...    0.0       1.0   \n",
       "\n",
       "      Emojis  Comments                              Tag  \n",
       "7526       0         0  singapore_general_election_2020  "
      ]
     },
     "execution_count": 8,
     "metadata": {},
     "output_type": "execute_result"
    }
   ],
   "source": [
    "ddf1.tail(1)"
   ]
  },
  {
   "cell_type": "code",
   "execution_count": 9,
   "metadata": {},
   "outputs": [],
   "source": [
    "ddf2.head(5)\n",
    "ddf2 = ddf2.loc[:,['UserName','Handle','Timestamp','Text','Likes','Retweets','Emojis','Comments','Tag']]\n",
    "ddf2.columns = ['UserName','Handle','Timestamp','Content','Likes','Retweets','Emojis','Comments','Tag']"
   ]
  },
  {
   "cell_type": "code",
   "execution_count": 10,
   "metadata": {},
   "outputs": [
    {
     "data": {
      "text/plain": [
       "Index(['UserName', 'Handle', 'Timestamp', 'Content', 'Likes', 'Retweets',\n",
       "       'Emojis', 'Comments', 'Tag'],\n",
       "      dtype='object')"
      ]
     },
     "execution_count": 10,
     "metadata": {},
     "output_type": "execute_result"
    }
   ],
   "source": [
    "ddf1.columns"
   ]
  },
  {
   "cell_type": "code",
   "execution_count": 11,
   "metadata": {},
   "outputs": [
    {
     "data": {
      "text/plain": [
       "Index(['UserName', 'Handle', 'Timestamp', 'Content', 'Likes', 'Retweets',\n",
       "       'Emojis', 'Comments', 'Tag'],\n",
       "      dtype='object')"
      ]
     },
     "execution_count": 11,
     "metadata": {},
     "output_type": "execute_result"
    }
   ],
   "source": [
    "ddf2.columns"
   ]
  },
  {
   "cell_type": "code",
   "execution_count": 12,
   "metadata": {},
   "outputs": [],
   "source": [
    "ddf = pd.concat([ddf1,ddf2],axis = 0)"
   ]
  },
  {
   "cell_type": "code",
   "execution_count": 13,
   "metadata": {},
   "outputs": [
    {
     "name": "stdout",
     "output_type": "stream",
     "text": [
      "Before droping the duplicate values (10146, 9)\n",
      "After droping the duplicate values (10128, 9)\n",
      "Filter the Time frame - May,June,July\n",
      "Total clean data (8770, 9)\n",
      "********saving data**************\n"
     ]
    }
   ],
   "source": [
    "print(\"Before droping the duplicate values\", ddf.shape)\n",
    "ddf.drop_duplicates(subset =\"Content\",keep = 'first') \n",
    "ddf = ddf.drop_duplicates()\n",
    "\n",
    "print(\"After droping the duplicate values\", ddf.shape)\n",
    "print(\"Filter the Time frame - May,June,July\")\n",
    "result =ddf.iloc[np.where(ddf['Timestamp'].apply(check_month))[0],:]\n",
    "print(\"Total clean data\", result.shape)\n",
    "print(\"********saving data**************\")\n",
    "result.to_csv('../data/clean_data/clean_data.csv',index=False)"
   ]
  },
  {
   "cell_type": "code",
   "execution_count": 14,
   "metadata": {},
   "outputs": [
    {
     "data": {
      "text/plain": [
       "general_election_sg                2250\n",
       "singaporevotes                     1172\n",
       "SingaporeVotes                     1098\n",
       "general_election_sg2020             956\n",
       "sgelections                         762\n",
       "GE2020                              655\n",
       "SGElection                          569\n",
       "Ge2020                              308\n",
       "GE2020SG                            211\n",
       "Singapore General Election          179\n",
       "wpsg                                129\n",
       "GESG2020                            117\n",
       "singapore_general_election_2020     101\n",
       "Singapore GE 2020                    93\n",
       "SGGE2020                             89\n",
       "PAPSingapore                         81\n",
       "Name: Tag, dtype: int64"
      ]
     },
     "execution_count": 14,
     "metadata": {},
     "output_type": "execute_result"
    }
   ],
   "source": [
    "result.Tag.value_counts()"
   ]
  },
  {
   "cell_type": "code",
   "execution_count": null,
   "metadata": {},
   "outputs": [],
   "source": []
  }
 ],
 "metadata": {
  "kernelspec": {
   "display_name": "Python 3",
   "language": "python",
   "name": "python3"
  },
  "language_info": {
   "codemirror_mode": {
    "name": "ipython",
    "version": 3
   },
   "file_extension": ".py",
   "mimetype": "text/x-python",
   "name": "python",
   "nbconvert_exporter": "python",
   "pygments_lexer": "ipython3",
   "version": "3.7.6"
  }
 },
 "nbformat": 4,
 "nbformat_minor": 4
}
